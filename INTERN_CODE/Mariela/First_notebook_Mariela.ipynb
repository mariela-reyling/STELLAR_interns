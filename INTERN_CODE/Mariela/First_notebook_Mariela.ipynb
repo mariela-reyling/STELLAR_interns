{
 "cells": [
  {
   "cell_type": "markdown",
   "metadata": {},
   "source": [
    "#### hint: Don't forget your imports"
   ]
  },
  {
   "cell_type": "code",
   "execution_count": 2,
   "metadata": {},
   "outputs": [],
   "source": [
    "import numpy as np \n",
    "import matplotlib.pyplot as plt"
   ]
  },
  {
   "cell_type": "code",
   "execution_count": null,
   "metadata": {},
   "outputs": [],
   "source": []
  },
  {
   "cell_type": "markdown",
   "metadata": {},
   "source": [
    "#### hint: who are the options to pick from"
   ]
  },
  {
   "cell_type": "code",
   "execution_count": null,
   "metadata": {},
   "outputs": [],
   "source": []
  },
  {
   "cell_type": "code",
   "execution_count": null,
   "metadata": {},
   "outputs": [],
   "source": []
  },
  {
   "cell_type": "markdown",
   "metadata": {},
   "source": [
    "#### hint: generate random number"
   ]
  },
  {
   "cell_type": "code",
   "execution_count": null,
   "metadata": {},
   "outputs": [],
   "source": []
  },
  {
   "cell_type": "code",
   "execution_count": null,
   "metadata": {},
   "outputs": [],
   "source": []
  },
  {
   "cell_type": "markdown",
   "metadata": {},
   "source": [
    "#### hint: how does that random number pick the person?"
   ]
  },
  {
   "cell_type": "code",
   "execution_count": null,
   "metadata": {},
   "outputs": [],
   "source": []
  },
  {
   "cell_type": "code",
   "execution_count": null,
   "metadata": {},
   "outputs": [],
   "source": []
  },
  {
   "cell_type": "markdown",
   "metadata": {},
   "source": [
    "# _Make sure you've commented before every line to explain what that line is doing_\n",
    "-----------------------------------------------------------------------------------------\n",
    "## Use below cells for testing and put your final code in the cells above"
   ]
  },
  {
   "cell_type": "code",
   "execution_count": 7,
   "metadata": {},
   "outputs": [
    {
     "name": "stdout",
     "output_type": "stream",
     "text": [
      "Sainy has to present this week!\n"
     ]
    }
   ],
   "source": [
    "Names = [\"Mariela\", \"Tigist\", \"Sainy\", \"Rie\", \"Stephanie\", \"Zoe\"]\n",
    "\n",
    "#Make a variable for the function that chooses a random number\n",
    "random_numbers = np.random.randint(0,len(Names),5)\n",
    "#Make an empty list to add the values to\n",
    "Presentor=[]\n",
    "#Make a for loop to loop through random_numbers\n",
    "for number in random_numbers:\n",
    "#Set the index to a variable\n",
    "   person = Names[number]\n",
    "#Append the variable to Presentor\n",
    "   Presentor.append(person)\n",
    "#Print the person who has to present!\n",
    "print(person, \"has to present this week!\")\n",
    "\n"
   ]
  },
  {
   "cell_type": "code",
   "execution_count": 8,
   "metadata": {},
   "outputs": [
    {
     "ename": "SyntaxError",
     "evalue": "invalid syntax (<ipython-input-8-80bf9f862cb7>, line 3)",
     "output_type": "error",
     "traceback": [
      "\u001b[0;36m  File \u001b[0;32m\"<ipython-input-8-80bf9f862cb7>\"\u001b[0;36m, line \u001b[0;32m3\u001b[0m\n\u001b[0;31m    interns[random_number]\u001b[0m\n\u001b[0m          ^\u001b[0m\n\u001b[0;31mSyntaxError\u001b[0m\u001b[0;31m:\u001b[0m invalid syntax\n"
     ]
    }
   ],
   "source": [
    "interns = [\"Mariela\", \"Zoe\", \"Stephanie\", \"Rie\", \"Tigist\", \"Sainy\"]\n",
    "random_number = int(np.random.randint(0,len(interns),5)\n",
    "interns[random_number]"
   ]
  },
  {
   "cell_type": "code",
   "execution_count": null,
   "metadata": {},
   "outputs": [],
   "source": []
  },
  {
   "cell_type": "code",
   "execution_count": null,
   "metadata": {},
   "outputs": [],
   "source": []
  }
 ],
 "metadata": {
  "kernelspec": {
   "display_name": "Python 3",
   "language": "python",
   "name": "python3"
  },
  "language_info": {
   "codemirror_mode": {
    "name": "ipython",
    "version": 3
   },
   "file_extension": ".py",
   "mimetype": "text/x-python",
   "name": "python",
   "nbconvert_exporter": "python",
   "pygments_lexer": "ipython3",
   "version": "3.7.3"
  }
 },
 "nbformat": 4,
 "nbformat_minor": 2
}
