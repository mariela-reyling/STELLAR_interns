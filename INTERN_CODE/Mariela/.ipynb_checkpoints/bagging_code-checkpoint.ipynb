{
 "cells": [
  {
   "cell_type": "code",
   "execution_count": 2,
   "metadata": {},
   "outputs": [],
   "source": [
    "%matplotlib inline\n",
    "import pandas as pd\n",
    "import numpy as np\n",
    "import matplotlib.pyplot as plt\n",
    "from astropy.table import Table\n",
    "from sklearn.tree import DecisionTreeClassifier\n",
    "import random\n",
    "from sklearn import tree "
   ]
  },
  {
   "cell_type": "code",
   "execution_count": 3,
   "metadata": {},
   "outputs": [
    {
     "data": {
      "text/plain": [
       "93"
      ]
     },
     "execution_count": 3,
     "metadata": {},
     "output_type": "execute_result"
    }
   ],
   "source": [
    "random.randint(80,100)"
   ]
  },
  {
   "cell_type": "code",
   "execution_count": 6,
   "metadata": {},
   "outputs": [],
   "source": [
    "temps = []\n",
    "spec_type = []\n",
    "luminosity = []\n",
    "mass = []\n",
    "ages = []\n",
    "\n",
    "for i in range(0,100):\n",
    "    mass_rng = random.randint(1,100)\n",
    "    temps_rng = random.randint(3500,6000)\n",
    "    spec_type_rng = random.randint(0,7)\n",
    "    luminosity_rng = random.randint(1,1000000)\n",
    "    ages_rng = random.randint(100000,13000000)\n",
    "    temps.append(temps_rng)\n",
    "    spec_type.append(spec_type_rng)\n",
    "    luminosity.append(luminosity_rng)\n",
    "    mass.append(mass_rng)\n",
    "    ages.append(ages_rng)"
   ]
  },
  {
   "cell_type": "code",
   "execution_count": 9,
   "metadata": {},
   "outputs": [
    {
     "data": {
      "text/plain": [
       "100"
      ]
     },
     "execution_count": 9,
     "metadata": {},
     "output_type": "execute_result"
    }
   ],
   "source": [
    "len(temps)"
   ]
  },
  {
   "cell_type": "code",
   "execution_count": 10,
   "metadata": {},
   "outputs": [
    {
     "data": {
      "text/plain": [
       "100"
      ]
     },
     "execution_count": 10,
     "metadata": {},
     "output_type": "execute_result"
    }
   ],
   "source": [
    "len(spec_type)"
   ]
  },
  {
   "cell_type": "code",
   "execution_count": 11,
   "metadata": {},
   "outputs": [
    {
     "data": {
      "text/plain": [
       "100"
      ]
     },
     "execution_count": 11,
     "metadata": {},
     "output_type": "execute_result"
    }
   ],
   "source": [
    "len(luminosity)"
   ]
  },
  {
   "cell_type": "code",
   "execution_count": 12,
   "metadata": {},
   "outputs": [
    {
     "data": {
      "text/plain": [
       "100"
      ]
     },
     "execution_count": 12,
     "metadata": {},
     "output_type": "execute_result"
    }
   ],
   "source": [
    "len(mass)"
   ]
  },
  {
   "cell_type": "code",
   "execution_count": 13,
   "metadata": {},
   "outputs": [
    {
     "data": {
      "text/plain": [
       "100"
      ]
     },
     "execution_count": 13,
     "metadata": {},
     "output_type": "execute_result"
    }
   ],
   "source": [
    "len(ages)"
   ]
  },
  {
   "cell_type": "code",
   "execution_count": 34,
   "metadata": {},
   "outputs": [],
   "source": [
    "feat = {\"temps\":temps, \"spec_type\":spec_type, \"luminosity\":luminosity,\"mass\":mass}\n",
    "feat_df = pd.DataFrame.from_dict(feat, orient = \"index\")\n",
    "correct_labels = ages\n",
    "data_table = Table([temps,spec_type,luminosity,mass],names=('temps','spec_type','luminosity','mass'))"
   ]
  },
  {
   "cell_type": "code",
   "execution_count": 35,
   "metadata": {},
   "outputs": [
    {
     "data": {
      "text/plain": [
       "(                0       1       2       3       4       5      6      7   \\\n",
       " temps         3516    4123    4091    4564    4987    5619   4036   4036   \n",
       " spec_type        3       4       4       4       6       4      6      2   \n",
       " luminosity  153577  370428  720113  208911  857011  720412  94239  31663   \n",
       " mass            18      15      30      99      11      66     43      7   \n",
       " \n",
       "                 8       9   ...      90     91      92      93      94  \\\n",
       " temps         3910    4694  ...    4778   5870    3722    5199    5072   \n",
       " spec_type        1       3  ...       0      1       3       3       0   \n",
       " luminosity  948253  345730  ...  179491  89384  251167  911294  517302   \n",
       " mass            83      32  ...      29     62      12      61      67   \n",
       " \n",
       "                 95      96      97      98      99  \n",
       " temps         5971    3573    4233    4507    3848  \n",
       " spec_type        1       5       5       1       6  \n",
       " luminosity  658619  593781  638874  287534  104217  \n",
       " mass             6      41      38      77      92  \n",
       " \n",
       " [4 rows x 100 columns], <Table length=100>\n",
       " temps spec_type luminosity  mass\n",
       " int64   int64     int64    int64\n",
       " ----- --------- ---------- -----\n",
       "  3516         3     153577    18\n",
       "  4123         4     370428    15\n",
       "  4091         4     720113    30\n",
       "  4564         4     208911    99\n",
       "  4987         6     857011    11\n",
       "  5619         4     720412    66\n",
       "  4036         6      94239    43\n",
       "  4036         2      31663     7\n",
       "  3910         1     948253    83\n",
       "  4694         3     345730    32\n",
       "   ...       ...        ...   ...\n",
       "  4778         0     179491    29\n",
       "  5870         1      89384    62\n",
       "  3722         3     251167    12\n",
       "  5199         3     911294    61\n",
       "  5072         0     517302    67\n",
       "  5971         1     658619     6\n",
       "  3573         5     593781    41\n",
       "  4233         5     638874    38\n",
       "  4507         1     287534    77\n",
       "  3848         6     104217    92, [12841494,\n",
       "  3865897,\n",
       "  12974154,\n",
       "  12709836,\n",
       "  4758388,\n",
       "  3959954,\n",
       "  8283151,\n",
       "  2852266,\n",
       "  10978025,\n",
       "  12622113,\n",
       "  11859331,\n",
       "  8801253,\n",
       "  214901,\n",
       "  7782358,\n",
       "  482416,\n",
       "  3751238,\n",
       "  7215890,\n",
       "  9778103,\n",
       "  6506102,\n",
       "  6529100,\n",
       "  8745931,\n",
       "  3010154,\n",
       "  10779809,\n",
       "  12824887,\n",
       "  8963343,\n",
       "  2655839,\n",
       "  1936314,\n",
       "  8381284,\n",
       "  10475908,\n",
       "  2310421,\n",
       "  10107516,\n",
       "  5681529,\n",
       "  967930,\n",
       "  9023751,\n",
       "  8780162,\n",
       "  9404732,\n",
       "  7100498,\n",
       "  2134901,\n",
       "  11322110,\n",
       "  4465381,\n",
       "  1685805,\n",
       "  8586377,\n",
       "  5227377,\n",
       "  12761618,\n",
       "  794189,\n",
       "  4300364,\n",
       "  2355390,\n",
       "  3852259,\n",
       "  4820904,\n",
       "  8214756,\n",
       "  6715826,\n",
       "  936870,\n",
       "  4925539,\n",
       "  11101742,\n",
       "  11968729,\n",
       "  3248353,\n",
       "  6532958,\n",
       "  1353981,\n",
       "  10713350,\n",
       "  807784,\n",
       "  11091107,\n",
       "  11710131,\n",
       "  1459169,\n",
       "  11056160,\n",
       "  11259673,\n",
       "  11662747,\n",
       "  1008387,\n",
       "  3537522,\n",
       "  9057792,\n",
       "  4144789,\n",
       "  2163139,\n",
       "  5310524,\n",
       "  12008794,\n",
       "  5131419,\n",
       "  9084689,\n",
       "  12686550,\n",
       "  12852682,\n",
       "  8063815,\n",
       "  12924372,\n",
       "  5970702,\n",
       "  3793398,\n",
       "  2348715,\n",
       "  12144574,\n",
       "  12913717,\n",
       "  1704440,\n",
       "  10145631,\n",
       "  5205211,\n",
       "  9049603,\n",
       "  12058687,\n",
       "  2908437,\n",
       "  1194471,\n",
       "  2016184,\n",
       "  8962487,\n",
       "  2227101,\n",
       "  10023946,\n",
       "  8769706,\n",
       "  8229889,\n",
       "  482657,\n",
       "  8877130,\n",
       "  9578434])"
      ]
     },
     "execution_count": 35,
     "metadata": {},
     "output_type": "execute_result"
    }
   ],
   "source": [
    "feat_df, data_table, correct_labels"
   ]
  },
  {
   "cell_type": "code",
   "execution_count": 36,
   "metadata": {},
   "outputs": [
    {
     "name": "stdout",
     "output_type": "stream",
     "text": [
      "7\n",
      "11\n",
      "10\n",
      "46\n",
      "21\n",
      "94\n",
      "85\n",
      "39\n",
      "32\n",
      "77\n"
     ]
    }
   ],
   "source": [
    "random.seed(2)\n",
    "\n",
    "indices=[]\n",
    "for i in range(0,10):\n",
    "    indices.append(random.randint(0,100))\n",
    "    \n",
    "data_subset=[]\n",
    "labels_subset=[]\n",
    "for i in indices:\n",
    "    print(i)\n",
    "    data_subset.append(data_table[i])\n",
    "    labels_subset.append(data_table[i])"
   ]
  },
  {
   "cell_type": "code",
   "execution_count": 52,
   "metadata": {},
   "outputs": [
    {
     "name": "stdout",
     "output_type": "stream",
     "text": [
      "79\n",
      "32\n",
      "94\n",
      "45\n",
      "88\n",
      "94\n",
      "83\n",
      "67\n",
      "3\n",
      "59\n"
     ]
    }
   ],
   "source": [
    "model = DecisionTreeClassifier()\n",
    "subset_tree_fit = model.fit(data_subset, labels_subset)\n",
    "random.seed(5)\n",
    "\n",
    "indices=[]\n",
    "for i in range(0,10):\n",
    "    indices.append(random.randint(0,100))\n",
    "    \n",
    "data_subset=[]\n",
    "labels_subset=[]\n",
    "for i in indices:\n",
    "    print(i)\n",
    "    data_subset.append(data_table[i])\n",
    "    labels_subset.append(data_table[i])"
   ]
  },
  {
   "cell_type": "code",
   "execution_count": 53,
   "metadata": {},
   "outputs": [
    {
     "name": "stdout",
     "output_type": "stream",
     "text": [
      "73\n",
      "4\n",
      "54\n",
      "61\n",
      "73\n",
      "1\n",
      "26\n",
      "59\n",
      "62\n",
      "35\n"
     ]
    }
   ],
   "source": [
    "model = DecisionTreeClassifier()\n",
    "subset_tree_fit = model.fit(data_subset, labels_subset)\n",
    "random.seed(10)\n",
    "\n",
    "indices=[]\n",
    "for i in range(0,10):\n",
    "    indices.append(random.randint(0,100))\n",
    "    \n",
    "data_subset=[]\n",
    "labels_subset=[]\n",
    "for i in indices:\n",
    "    print(i)\n",
    "    data_subset.append(data_table[i])\n",
    "    labels_subset.append(data_table[i])"
   ]
  },
  {
   "cell_type": "code",
   "execution_count": null,
   "metadata": {},
   "outputs": [],
   "source": []
  }
 ],
 "metadata": {
  "kernelspec": {
   "display_name": "Python 3",
   "language": "python",
   "name": "python3"
  },
  "language_info": {
   "codemirror_mode": {
    "name": "ipython",
    "version": 3
   },
   "file_extension": ".py",
   "mimetype": "text/x-python",
   "name": "python",
   "nbconvert_exporter": "python",
   "pygments_lexer": "ipython3",
   "version": "3.7.3"
  }
 },
 "nbformat": 4,
 "nbformat_minor": 2
}
